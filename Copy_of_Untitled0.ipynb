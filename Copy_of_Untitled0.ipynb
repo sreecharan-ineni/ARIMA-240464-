{
  "nbformat": 4,
  "nbformat_minor": 0,
  "metadata": {
    "colab": {
      "provenance": []
    },
    "kernelspec": {
      "name": "python3",
      "display_name": "Python 3"
    },
    "language_info": {
      "name": "python"
    }
  },
  "cells": [
    {
      "cell_type": "code",
      "execution_count": null,
      "metadata": {
        "colab": {
          "base_uri": "https://localhost:8080/"
        },
        "id": "5FQR_J9iZVM5",
        "outputId": "824d4b5a-5727-4021-f7f9-b1d7056048c9"
      },
      "outputs": [
        {
          "output_type": "stream",
          "name": "stdout",
          "text": [
            "   ID  Square_Feet  Num_Bedrooms  Num_Bathrooms  Num_Floors  Year_Built  \\\n",
            "0   1   143.635030           1.0            3.0         3.0      1967.0   \n",
            "1   2   287.678577           1.0            2.0         1.0      1949.0   \n",
            "2   3   232.998485           1.0            3.0         2.0      1923.0   \n",
            "3   4   199.664621           5.0            2.0         2.0      1918.0   \n",
            "4   5    89.004660           4.0            3.0         3.0      1999.0   \n",
            "\n",
            "   Has_Garden  Has_Pool  Garage_Size  Location_Score  Distance_to_Center  \\\n",
            "0         1.0       1.0         48.0        8.297631            5.935734   \n",
            "1         0.0       1.0         37.0        6.061466           10.827392   \n",
            "2         1.0       0.0         14.0        2.911442            6.904599   \n",
            "3         0.0       0.0         17.0        2.070949            8.284019   \n",
            "4         1.0       0.0         34.0        1.523278           14.648277   \n",
            "\n",
            "   Price  \n",
            "0   6021  \n",
            "1   5914  \n",
            "2   4645  \n",
            "3   5831  \n",
            "4   6199  \n"
          ]
        }
      ],
      "source": [
        "import pandas as pd\n",
        "import numpy as np\n",
        "\n",
        "\n",
        "\n",
        "df = pd.read_csv('/content/data.csv')\n",
        "\n",
        "\n",
        "print(df.head())\n",
        "\n",
        "\n",
        "\n",
        "\n",
        "features = ['Square_Feet','Num_Bedrooms','Num_Bathrooms','Num_Floors','Year_Built','Has_Garden','Has_Pool','Garage_Size','Location_Score','Distance_to_Center']\n",
        "for feauture in features:\n",
        "  df[feauture] = df[feauture].fillna(df[feauture].mean())\n",
        "\n",
        "df['Price'] = df['Price'].fillna(df['Price'].mean())\n",
        "X = df[features].values\n",
        "y = df['Price'].values.reshape(-1, 1)"
      ]
    },
    {
      "cell_type": "code",
      "source": [
        "import numpy as np\n",
        "\n",
        "\n",
        "def predict(X, weights, bias):\n",
        "    return np.dot(X, weights) + bias\n",
        "\n",
        "def compute_loss(y_true, y_pred):\n",
        "    errors = y_pred - y_true\n",
        "    return np.mean(errors ** 2)\n",
        "\n",
        "def gradient_descent(X, y, weights, bias, learning_rate):\n",
        "    n_samples = X.shape[0]\n",
        "    y_pred = predict(X, weights, bias)\n",
        "    error = y_pred - y\n",
        "\n",
        "    dw = (1/n_samples) * np.dot(X.T, error)\n",
        "    db = (1/n_samples) * np.sum(error)\n",
        "\n",
        "    weights -= learning_rate * dw\n",
        "    bias -= learning_rate * db\n",
        "\n",
        "    return weights, bias\n"
      ],
      "metadata": {
        "id": "6ioQ6kCLbbKy"
      },
      "execution_count": null,
      "outputs": []
    },
    {
      "cell_type": "code",
      "source": [
        "learning_rate = 0.01\n",
        "n_iterations = 1000\n",
        "\n",
        "\n",
        "\n",
        "n_features = X.shape[1]\n",
        "weights = np.zeros((n_features, 1))\n",
        "bias = 0\n",
        "\n",
        "\n",
        "for i in range(n_iterations):\n",
        "    weights, bias = gradient_descent(X, y, weights, bias, learning_rate)\n",
        "\n",
        "    if i % 100 == 0:\n",
        "        y_pred = predict(X, weights, bias)\n",
        "        loss = compute_loss(y, y_pred)\n",
        "        print(f\"Iteration {i}: Loss = {loss:.4f}\")"
      ],
      "metadata": {
        "colab": {
          "base_uri": "https://localhost:8080/"
        },
        "id": "enpzkKKlbqNK",
        "outputId": "330360a8-c758-4dec-b1ef-6155170444ba"
      },
      "execution_count": null,
      "outputs": [
        {
          "output_type": "stream",
          "name": "stdout",
          "text": [
            "Iteration 0: Loss = 50827543699452496.0000\n",
            "Iteration 100: Loss = nan\n",
            "Iteration 200: Loss = nan\n",
            "Iteration 300: Loss = nan\n",
            "Iteration 400: Loss = nan\n",
            "Iteration 500: Loss = nan\n",
            "Iteration 600: Loss = nan\n",
            "Iteration 700: Loss = nan\n",
            "Iteration 800: Loss = nan\n",
            "Iteration 900: Loss = nan\n"
          ]
        },
        {
          "output_type": "stream",
          "name": "stderr",
          "text": [
            "/usr/local/lib/python3.11/dist-packages/numpy/_core/fromnumeric.py:86: RuntimeWarning: overflow encountered in reduce\n",
            "  return ufunc.reduce(obj, axis, dtype, out, **passkwargs)\n"
          ]
        }
      ]
    }
  ]
}